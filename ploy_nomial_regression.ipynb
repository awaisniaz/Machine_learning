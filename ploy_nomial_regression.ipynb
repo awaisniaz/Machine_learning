{
  "nbformat": 4,
  "nbformat_minor": 0,
  "metadata": {
    "colab": {
      "name": "ploy-nomial-regression.ipynb",
      "provenance": [],
      "authorship_tag": "ABX9TyMegsKyxA9cOz/S+tSgd3qb",
      "include_colab_link": true
    },
    "kernelspec": {
      "name": "python3",
      "display_name": "Python 3"
    }
  },
  "cells": [
    {
      "cell_type": "markdown",
      "metadata": {
        "id": "view-in-github",
        "colab_type": "text"
      },
      "source": [
        "<a href=\"https://colab.research.google.com/github/awaisniaz/Machine_learning/blob/master/ploy_nomial_regression.ipynb\" target=\"_parent\"><img src=\"https://colab.research.google.com/assets/colab-badge.svg\" alt=\"Open In Colab\"/></a>"
      ]
    },
    {
      "cell_type": "code",
      "metadata": {
        "colab": {
          "base_uri": "https://localhost:8080/",
          "height": 265
        },
        "id": "vtQy1Xn4ZCsn",
        "outputId": "7ed1f105-c7fb-4eb8-a914-a5bfb9db5ff4"
      },
      "source": [
        "import numpy as np\r\n",
        "import matplotlib.pyplot as plt\r\n",
        "\r\n",
        "np.random.seed(0)\r\n",
        "x = 2 - 3 * np.random.normal(0, 1, 20)\r\n",
        "y = x - 2 * (x ** 2) + 0.5 * (x ** 3) + np.random.normal(-3, 3, 20)\r\n",
        "plt.scatter(x,y, s=10)\r\n",
        "plt.show()"
      ],
      "execution_count": 1,
      "outputs": [
        {
          "output_type": "display_data",
          "data": {
            "image/png": "[encoded data removed]",
            "text/plain": [
              "<Figure size 432x288 with 1 Axes>"
            ]
          },
          "metadata": {
            "tags": [],
            "needs_background": "light"
          }
        }
      ]
    },
    {
      "cell_type": "markdown",
      "metadata": {
        "id": "QREqLyBbZogU"
      },
      "source": [
        "**Apply Linear Regression On  linear** **Dataset** **bold text**"
      ]
    },
    {
      "cell_type": "code",
      "metadata": {
        "colab": {
          "base_uri": "https://localhost:8080/",
          "height": 265
        },
        "id": "ZCEXdQ3SZzvV",
        "outputId": "0980c19e-1c66-4966-f855-3b37d64c3239"
      },
      "source": [
        "import numpy as np\r\n",
        "import matplotlib.pyplot as plt\r\n",
        "\r\n",
        "from sklearn.linear_model import LinearRegression\r\n",
        "\r\n",
        "np.random.seed(0)\r\n",
        "x = 2 - 3 * np.random.normal(0, 1, 20)\r\n",
        "y = x - 2 * (x ** 2) + 0.5 * (x ** 3) + np.random.normal(-3, 3, 20)\r\n",
        "\r\n",
        "# transforming the data to include another axis\r\n",
        "x = x[:, np.newaxis]\r\n",
        "y = y[:, np.newaxis]\r\n",
        "\r\n",
        "model = LinearRegression()\r\n",
        "model.fit(x, y)\r\n",
        "y_pred = model.predict(x)\r\n",
        "\r\n",
        "plt.scatter(x, y, s=10)\r\n",
        "plt.plot(x, y_pred, color='r')\r\n",
        "plt.show()"
      ],
      "execution_count": 2,
      "outputs": [
        {
          "output_type": "display_data",
          "data": {
            "image/png": "[encoded data removed]",
            "text/plain": [
              "<Figure size 432x288 with 1 Axes>"
            ]
          },
          "metadata": {
            "tags": [],
            "needs_background": "light"
          }
        }
      ]
    },
    {
      "cell_type": "markdown",
      "metadata": {
        "id": "yT_M2W3WbsHQ"
      },
      "source": [
        "# **Appky Ploynomial Regression**"
      ]
    },
    {
      "cell_type": "code",
      "metadata": {
        "colab": {
          "base_uri": "https://localhost:8080/",
          "height": 299
        },
        "id": "Za_bvAyIbzAY",
        "outputId": "5daabf3b-7d3a-433b-b0be-c8a7ac03f6b6"
      },
      "source": [
        "import operator\r\n",
        "\r\n",
        "import numpy as np\r\n",
        "import matplotlib.pyplot as plt\r\n",
        "\r\n",
        "from sklearn.linear_model import LinearRegression\r\n",
        "from sklearn.metrics import mean_squared_error, r2_score\r\n",
        "from sklearn.preprocessing import PolynomialFeatures\r\n",
        "\r\n",
        "np.random.seed(0)\r\n",
        "x = 2 - 3 * np.random.normal(0, 1, 20)\r\n",
        "y = x - 2 * (x ** 2) + 0.5 * (x ** 3) + np.random.normal(-3, 3, 20)\r\n",
        "\r\n",
        "# transforming the data to include another axis\r\n",
        "x = x[:, np.newaxis]\r\n",
        "y = y[:, np.newaxis]\r\n",
        "\r\n",
        "polynomial_features= PolynomialFeatures(degree=5)\r\n",
        "x_poly = polynomial_features.fit_transform(x)\r\n",
        "\r\n",
        "model = LinearRegression()\r\n",
        "model.fit(x_poly, y)\r\n",
        "y_poly_pred = model.predict(x_poly)\r\n",
        "\r\n",
        "rmse = np.sqrt(mean_squared_error(y,y_poly_pred))\r\n",
        "r2 = r2_score(y,y_poly_pred)\r\n",
        "print(rmse)\r\n",
        "print(r2)\r\n",
        "\r\n",
        "plt.scatter(x, y, s=10)\r\n",
        "# sort the values of x before line plot\r\n",
        "sort_axis = operator.itemgetter(0)\r\n",
        "sorted_zip = sorted(zip(x,y_poly_pred), key=sort_axis)\r\n",
        "x, y_poly_pred = zip(*sorted_zip)\r\n",
        "plt.plot(x, y_poly_pred, color='R')\r\n",
        "plt.show()"
      ],
      "execution_count": 6,
      "outputs": [
        {
          "output_type": "stream",
          "text": [
            "3.2933518879473946\n",
            "0.9845143345421614\n"
          ],
          "name": "stdout"
        },
        {
          "output_type": "display_data",
          "data": {
            "image/png": "[encoded data removed]",
            "text/plain": [
              "<Figure size 432x288 with 1 Axes>"
            ]
          },
          "metadata": {
            "tags": [],
            "needs_background": "light"
          }
        }
      ]
    }
  ]
}