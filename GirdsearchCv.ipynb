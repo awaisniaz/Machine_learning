{
  "nbformat": 4,
  "nbformat_minor": 0,
  "metadata": {
    "colab": {
      "name": "GirdsearchCv.ipynb",
      "provenance": [],
      "collapsed_sections": [],
      "authorship_tag": "ABX9TyNhpo8hEF07jdyWRqA5gB99",
      "include_colab_link": true
    },
    "kernelspec": {
      "name": "python3",
      "display_name": "Python 3"
    }
  },
  "cells": [
    {
      "cell_type": "markdown",
      "metadata": {
        "id": "view-in-github",
        "colab_type": "text"
      },
      "source": [
        "<a href=\"https://colab.research.google.com/github/awaisniaz/Machine_learning/blob/master/GirdsearchCv.ipynb\" target=\"_parent\"><img src=\"https://colab.research.google.com/assets/colab-badge.svg\" alt=\"Open In Colab\"/></a>"
      ]
    },
    {
      "cell_type": "code",
      "metadata": {
        "id": "H0pm7Dje_ITx"
      },
      "source": [
        "import numpy as np\r\n",
        "import pandas as pd\r\n",
        "\r\n",
        "data = pd.read_csv('Advertising_data.csv')\r\n"
      ],
      "execution_count": 15,
      "outputs": []
    },
    {
      "cell_type": "code",
      "metadata": {
        "colab": {
          "base_uri": "https://localhost:8080/"
        },
        "id": "PZ1k8ZifJ64z",
        "outputId": "b74201c7-501b-45b5-ff5d-7d5f2ed5d913"
      },
      "source": [
        "X = data.iloc[:,[2,3]].values \r\n",
        "y = data.iloc[:,4].values \r\n",
        "from sklearn.model_selection import train_test_split\r\n",
        "X_train,X_test,y_train,y_test = train_test_split(X,y,test_size = 0.25,random_state = 5)\r\n",
        "\r\n",
        "from sklearn.preprocessing import StandardScaler \r\n",
        "sc = StandardScaler() \r\n",
        "\r\n",
        "X_train = sc.fit_transform(X_train) \r\n",
        "X_test = sc.fit_transform(X_test)\r\n",
        "\r\n",
        "from sklearn.svm import SVC \r\n",
        "classifier = SVC(kernel = 'linear',random_state = 0) \r\n",
        "classifier.fit(X_train,y_train)\r\n",
        "\r\n",
        "#Prediction\r\n",
        "y_pred = classifier.predict(X_test)\r\n",
        "\r\n",
        "from sklearn.metrics import confusion_matrix\r\n",
        "\r\n",
        "cm = confusion_matrix(y_test,y_pred)\r\n",
        "\r\n",
        "from sklearn.metrics import accuracy_score \r\n",
        "accuracy = accuracy_score(y_test,y_pred)\r\n",
        "accuracy"
      ],
      "execution_count": 20,
      "outputs": [
        {
          "output_type": "execute_result",
          "data": {
            "text/plain": [
              "0.85"
            ]
          },
          "metadata": {
            "tags": []
          },
          "execution_count": 20
        }
      ]
    },
    {
      "cell_type": "code",
      "metadata": {
        "id": "S53ilEg1M3sr"
      },
      "source": [
        "from sklearn.model_selection import GridSearchCV\r\n",
        "\r\n",
        "parameters = [{'C':[1,10,100,1000],'kernel':['linear']},\r\n",
        "              {'C':[1,10,100,1000],'kernel':'['rbf},'gamma':[0.1,0.2,0.3,0.4,0.5,0.6,0.7,0.8,0.9]}]\r\n",
        "gridSearch = GridSearchCV(estimator = classifier,param_grid = parameters,scoring='accuracy',\r\n",
        "                          cv=10,n_jobs = -1)\r\n",
        "\r\n",
        "grid_search = gridSearch(X_train,y_train)\r\n"
      ],
      "execution_count": null,
      "outputs": []
    }
  ]
}