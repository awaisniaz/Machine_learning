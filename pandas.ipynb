{
  "nbformat": 4,
  "nbformat_minor": 0,
  "metadata": {
    "colab": {
      "name": "pandas.ipynb",
      "provenance": [],
      "authorship_tag": "ABX9TyOq4UBzF5qKrT8gNxNZTsRI",
      "include_colab_link": true
    },
    "kernelspec": {
      "name": "python3",
      "display_name": "Python 3"
    }
  },
  "cells": [
    {
      "cell_type": "markdown",
      "metadata": {
        "id": "view-in-github",
        "colab_type": "text"
      },
      "source": [
        "<a href=\"https://colab.research.google.com/github/awaisniaz/Machine_learning/blob/master/pandas.ipynb\" target=\"_parent\"><img src=\"https://colab.research.google.com/assets/colab-badge.svg\" alt=\"Open In Colab\"/></a>"
      ]
    },
    {
      "cell_type": "code",
      "metadata": {
        "colab": {
          "base_uri": "https://localhost:8080/"
        },
        "id": "7kiFTGmckQui",
        "outputId": "f80f5588-8b8e-4a1b-e5d7-f0ad78211c6d"
      },
      "source": [
        "import pandas as pd\r\n",
        "arr = [1,2,3,5,6]\r\n",
        "index = ['a','b','c','d','e']\r\n",
        "colums = ['index','marks']\r\n",
        "pd.Series(data=arr,index=index)"
      ],
      "execution_count": 7,
      "outputs": [
        {
          "output_type": "execute_result",
          "data": {
            "text/plain": [
              "a    1\n",
              "b    2\n",
              "c    3\n",
              "d    5\n",
              "e    6\n",
              "dtype: int64"
            ]
          },
          "metadata": {
            "tags": []
          },
          "execution_count": 7
        }
      ]
    },
    {
      "cell_type": "code",
      "metadata": {
        "colab": {
          "base_uri": "https://localhost:8080/"
        },
        "id": "JPy-ZJPGlTea",
        "outputId": "77c3149c-1f6a-4ea5-f436-445efc13f54f"
      },
      "source": [
        "from numpy.random import randn\r\n",
        "import numpy as np\r\n",
        "np.random.seed(1)\r\n",
        "\r\n",
        "dataFrame = pd.DataFrame(randn(10,5),columns='A B C D E'.split())\r\n",
        "dataFrame['A']"
      ],
      "execution_count": 15,
      "outputs": [
        {
          "output_type": "execute_result",
          "data": {
            "text/plain": [
              "0    1.624345\n",
              "1   -2.301539\n",
              "2    1.462108\n",
              "3   -1.099891\n",
              "4   -1.100619\n",
              "5   -0.683728\n",
              "6   -0.691661\n",
              "7   -0.012665\n",
              "8   -0.191836\n",
              "9   -0.636996\n",
              "Name: A, dtype: float64"
            ]
          },
          "metadata": {
            "tags": []
          },
          "execution_count": 15
        }
      ]
    },
    {
      "cell_type": "markdown",
      "metadata": {
        "id": "lpM4wVQ9mpOf"
      },
      "source": [
        "**Selecting Rows**"
      ]
    },
    {
      "cell_type": "code",
      "metadata": {
        "colab": {
          "base_uri": "https://localhost:8080/"
        },
        "id": "RDHRF5mKmw4x",
        "outputId": "fd9130dd-099c-44b5-b8fa-3a9c4f6b8736"
      },
      "source": [
        "dataFrame.loc[1:4,'A']"
      ],
      "execution_count": 18,
      "outputs": [
        {
          "output_type": "execute_result",
          "data": {
            "text/plain": [
              "1   -2.301539\n",
              "2    1.462108\n",
              "3   -1.099891\n",
              "4   -1.100619\n",
              "Name: A, dtype: float64"
            ]
          },
          "metadata": {
            "tags": []
          },
          "execution_count": 18
        }
      ]
    },
    {
      "cell_type": "markdown",
      "metadata": {
        "id": "ubm_-Ua9oA_I"
      },
      "source": [
        "# **Merging**"
      ]
    },
    {
      "cell_type": "code",
      "metadata": {
        "id": "eNLP8osAoFpy"
      },
      "source": [
        "data1 = pd.DataFrame({'ID':['101','102','103'],\r\n",
        "                      'Sale':[123,123,453]})\r\n",
        "data2 = pd.DataFrame({'ID':['101','102','103'],\r\n",
        "                      'Sale':[123,123,453]})"
      ],
      "execution_count": 21,
      "outputs": []
    },
    {
      "cell_type": "code",
      "metadata": {
        "colab": {
          "base_uri": "https://localhost:8080/",
          "height": 142
        },
        "id": "BdH3WhC2oeyc",
        "outputId": "b00d7d15-2766-46e2-b5df-d9c8ab733a07"
      },
      "source": [
        "pd.concat([data1,data2],ignore_index=True,axis=1)"
      ],
      "execution_count": 24,
      "outputs": [
        {
          "output_type": "execute_result",
          "data": {
            "text/html": [
              "<div>\n",
              "<style scoped>\n",
              "    .dataframe tbody tr th:only-of-type {\n",
              "        vertical-align: middle;\n",
              "    }\n",
              "\n",
              "    .dataframe tbody tr th {\n",
              "        vertical-align: top;\n",
              "    }\n",
              "\n",
              "    .dataframe thead th {\n",
              "        text-align: right;\n",
              "    }\n",
              "</style>\n",
              "<table border=\"1\" class=\"dataframe\">\n",
              "  <thead>\n",
              "    <tr style=\"text-align: right;\">\n",
              "      <th></th>\n",
              "      <th>0</th>\n",
              "      <th>1</th>\n",
              "      <th>2</th>\n",
              "      <th>3</th>\n",
              "    </tr>\n",
              "  </thead>\n",
              "  <tbody>\n",
              "    <tr>\n",
              "      <th>0</th>\n",
              "      <td>101</td>\n",
              "      <td>123</td>\n",
              "      <td>101</td>\n",
              "      <td>123</td>\n",
              "    </tr>\n",
              "    <tr>\n",
              "      <th>1</th>\n",
              "      <td>102</td>\n",
              "      <td>123</td>\n",
              "      <td>102</td>\n",
              "      <td>123</td>\n",
              "    </tr>\n",
              "    <tr>\n",
              "      <th>2</th>\n",
              "      <td>103</td>\n",
              "      <td>453</td>\n",
              "      <td>103</td>\n",
              "      <td>453</td>\n",
              "    </tr>\n",
              "  </tbody>\n",
              "</table>\n",
              "</div>"
            ],
            "text/plain": [
              "     0    1    2    3\n",
              "0  101  123  101  123\n",
              "1  102  123  102  123\n",
              "2  103  453  103  453"
            ]
          },
          "metadata": {
            "tags": []
          },
          "execution_count": 24
        }
      ]
    }
  ]
}